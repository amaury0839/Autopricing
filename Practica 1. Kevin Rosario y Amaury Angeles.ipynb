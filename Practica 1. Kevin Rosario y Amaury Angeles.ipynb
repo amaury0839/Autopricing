{
 "cells": [
  {
   "cell_type": "markdown",
   "metadata": {},
   "source": [
    "# Práctica 1\n",
    "\n",
    "## Kevin Rosario\n",
    "## Amaury Angeles"
   ]
  },
  {
   "cell_type": "markdown",
   "metadata": {},
   "source": [
    "### Importamos la base de datos."
   ]
  },
  {
   "cell_type": "code",
   "execution_count": 180,
   "metadata": {},
   "outputs": [],
   "source": [
    "import pandas as pd\n",
    "import numpy as np\n",
    "import os\n",
    "\n",
    "df = pd.DataFrame(pd.read_csv(\"Carprice_Assignment.csv\"))"
   ]
  },
  {
   "cell_type": "markdown",
   "metadata": {},
   "source": [
    "### Se seleccionan las variables de interes."
   ]
  },
  {
   "cell_type": "code",
   "execution_count": 181,
   "metadata": {},
   "outputs": [],
   "source": [
    "df=df[[\"price\",\"fueltype\",\"wheelbase\",\"enginetype\",\"horsepower\",\"citympg\",\"highwaympg\",\"peakrpm\",\"cylindernumber\"]]"
   ]
  },
  {
   "cell_type": "markdown",
   "metadata": {},
   "source": [
    "### Se visualizan los campos."
   ]
  },
  {
   "cell_type": "code",
   "execution_count": 182,
   "metadata": {},
   "outputs": [
    {
     "data": {
      "text/html": [
       "<div>\n",
       "<style scoped>\n",
       "    .dataframe tbody tr th:only-of-type {\n",
       "        vertical-align: middle;\n",
       "    }\n",
       "\n",
       "    .dataframe tbody tr th {\n",
       "        vertical-align: top;\n",
       "    }\n",
       "\n",
       "    .dataframe thead th {\n",
       "        text-align: right;\n",
       "    }\n",
       "</style>\n",
       "<table border=\"1\" class=\"dataframe\">\n",
       "  <thead>\n",
       "    <tr style=\"text-align: right;\">\n",
       "      <th></th>\n",
       "      <th>price</th>\n",
       "      <th>fueltype</th>\n",
       "      <th>wheelbase</th>\n",
       "      <th>enginetype</th>\n",
       "      <th>horsepower</th>\n",
       "      <th>citympg</th>\n",
       "      <th>highwaympg</th>\n",
       "      <th>peakrpm</th>\n",
       "      <th>cylindernumber</th>\n",
       "    </tr>\n",
       "  </thead>\n",
       "  <tbody>\n",
       "    <tr>\n",
       "      <th>0</th>\n",
       "      <td>13495.0</td>\n",
       "      <td>gas</td>\n",
       "      <td>88.6</td>\n",
       "      <td>dohc</td>\n",
       "      <td>111</td>\n",
       "      <td>21</td>\n",
       "      <td>27</td>\n",
       "      <td>5000</td>\n",
       "      <td>four</td>\n",
       "    </tr>\n",
       "    <tr>\n",
       "      <th>1</th>\n",
       "      <td>16500.0</td>\n",
       "      <td>gas</td>\n",
       "      <td>88.6</td>\n",
       "      <td>dohc</td>\n",
       "      <td>111</td>\n",
       "      <td>21</td>\n",
       "      <td>27</td>\n",
       "      <td>5000</td>\n",
       "      <td>four</td>\n",
       "    </tr>\n",
       "    <tr>\n",
       "      <th>2</th>\n",
       "      <td>16500.0</td>\n",
       "      <td>gas</td>\n",
       "      <td>94.5</td>\n",
       "      <td>ohcv</td>\n",
       "      <td>154</td>\n",
       "      <td>19</td>\n",
       "      <td>26</td>\n",
       "      <td>5000</td>\n",
       "      <td>six</td>\n",
       "    </tr>\n",
       "    <tr>\n",
       "      <th>3</th>\n",
       "      <td>13950.0</td>\n",
       "      <td>gas</td>\n",
       "      <td>99.8</td>\n",
       "      <td>ohc</td>\n",
       "      <td>102</td>\n",
       "      <td>24</td>\n",
       "      <td>30</td>\n",
       "      <td>5500</td>\n",
       "      <td>four</td>\n",
       "    </tr>\n",
       "    <tr>\n",
       "      <th>4</th>\n",
       "      <td>17450.0</td>\n",
       "      <td>gas</td>\n",
       "      <td>99.4</td>\n",
       "      <td>ohc</td>\n",
       "      <td>115</td>\n",
       "      <td>18</td>\n",
       "      <td>22</td>\n",
       "      <td>5500</td>\n",
       "      <td>five</td>\n",
       "    </tr>\n",
       "  </tbody>\n",
       "</table>\n",
       "</div>"
      ],
      "text/plain": [
       "     price fueltype  wheelbase enginetype  horsepower  citympg  highwaympg  \\\n",
       "0  13495.0      gas       88.6       dohc         111       21          27   \n",
       "1  16500.0      gas       88.6       dohc         111       21          27   \n",
       "2  16500.0      gas       94.5       ohcv         154       19          26   \n",
       "3  13950.0      gas       99.8        ohc         102       24          30   \n",
       "4  17450.0      gas       99.4        ohc         115       18          22   \n",
       "\n",
       "   peakrpm cylindernumber  \n",
       "0     5000           four  \n",
       "1     5000           four  \n",
       "2     5000            six  \n",
       "3     5500           four  \n",
       "4     5500           five  "
      ]
     },
     "execution_count": 182,
     "metadata": {},
     "output_type": "execute_result"
    }
   ],
   "source": [
    "df.head()"
   ]
  },
  {
   "cell_type": "markdown",
   "metadata": {},
   "source": [
    "### Se verifican los tipos de datos de los campos."
   ]
  },
  {
   "cell_type": "code",
   "execution_count": 183,
   "metadata": {},
   "outputs": [
    {
     "data": {
      "text/plain": [
       "price             float64\n",
       "fueltype           object\n",
       "wheelbase         float64\n",
       "enginetype         object\n",
       "horsepower          int64\n",
       "citympg             int64\n",
       "highwaympg          int64\n",
       "peakrpm             int64\n",
       "cylindernumber     object\n",
       "dtype: object"
      ]
     },
     "execution_count": 183,
     "metadata": {},
     "output_type": "execute_result"
    }
   ],
   "source": [
    "df.dtypes"
   ]
  },
  {
   "cell_type": "markdown",
   "metadata": {},
   "source": [
    "### Se convierten las columnas categoricas en campos binarios de 1 y 0."
   ]
  },
  {
   "cell_type": "code",
   "execution_count": 184,
   "metadata": {},
   "outputs": [
    {
     "data": {
      "text/html": [
       "<div>\n",
       "<style scoped>\n",
       "    .dataframe tbody tr th:only-of-type {\n",
       "        vertical-align: middle;\n",
       "    }\n",
       "\n",
       "    .dataframe tbody tr th {\n",
       "        vertical-align: top;\n",
       "    }\n",
       "\n",
       "    .dataframe thead th {\n",
       "        text-align: right;\n",
       "    }\n",
       "</style>\n",
       "<table border=\"1\" class=\"dataframe\">\n",
       "  <thead>\n",
       "    <tr style=\"text-align: right;\">\n",
       "      <th></th>\n",
       "      <th>price</th>\n",
       "      <th>wheelbase</th>\n",
       "      <th>horsepower</th>\n",
       "      <th>citympg</th>\n",
       "      <th>highwaympg</th>\n",
       "      <th>peakrpm</th>\n",
       "      <th>fueltype__diesel</th>\n",
       "      <th>fueltype__gas</th>\n",
       "      <th>cylindernumber__eight</th>\n",
       "      <th>cylindernumber__five</th>\n",
       "      <th>...</th>\n",
       "      <th>cylindernumber__three</th>\n",
       "      <th>cylindernumber__twelve</th>\n",
       "      <th>cylindernumber__two</th>\n",
       "      <th>enginetype__dohc</th>\n",
       "      <th>enginetype__dohcv</th>\n",
       "      <th>enginetype__l</th>\n",
       "      <th>enginetype__ohc</th>\n",
       "      <th>enginetype__ohcf</th>\n",
       "      <th>enginetype__ohcv</th>\n",
       "      <th>enginetype__rotor</th>\n",
       "    </tr>\n",
       "  </thead>\n",
       "  <tbody>\n",
       "    <tr>\n",
       "      <th>0</th>\n",
       "      <td>13495.0</td>\n",
       "      <td>88.6</td>\n",
       "      <td>111</td>\n",
       "      <td>21</td>\n",
       "      <td>27</td>\n",
       "      <td>5000</td>\n",
       "      <td>0</td>\n",
       "      <td>1</td>\n",
       "      <td>0</td>\n",
       "      <td>0</td>\n",
       "      <td>...</td>\n",
       "      <td>0</td>\n",
       "      <td>0</td>\n",
       "      <td>0</td>\n",
       "      <td>1</td>\n",
       "      <td>0</td>\n",
       "      <td>0</td>\n",
       "      <td>0</td>\n",
       "      <td>0</td>\n",
       "      <td>0</td>\n",
       "      <td>0</td>\n",
       "    </tr>\n",
       "    <tr>\n",
       "      <th>1</th>\n",
       "      <td>16500.0</td>\n",
       "      <td>88.6</td>\n",
       "      <td>111</td>\n",
       "      <td>21</td>\n",
       "      <td>27</td>\n",
       "      <td>5000</td>\n",
       "      <td>0</td>\n",
       "      <td>1</td>\n",
       "      <td>0</td>\n",
       "      <td>0</td>\n",
       "      <td>...</td>\n",
       "      <td>0</td>\n",
       "      <td>0</td>\n",
       "      <td>0</td>\n",
       "      <td>1</td>\n",
       "      <td>0</td>\n",
       "      <td>0</td>\n",
       "      <td>0</td>\n",
       "      <td>0</td>\n",
       "      <td>0</td>\n",
       "      <td>0</td>\n",
       "    </tr>\n",
       "    <tr>\n",
       "      <th>2</th>\n",
       "      <td>16500.0</td>\n",
       "      <td>94.5</td>\n",
       "      <td>154</td>\n",
       "      <td>19</td>\n",
       "      <td>26</td>\n",
       "      <td>5000</td>\n",
       "      <td>0</td>\n",
       "      <td>1</td>\n",
       "      <td>0</td>\n",
       "      <td>0</td>\n",
       "      <td>...</td>\n",
       "      <td>0</td>\n",
       "      <td>0</td>\n",
       "      <td>0</td>\n",
       "      <td>0</td>\n",
       "      <td>0</td>\n",
       "      <td>0</td>\n",
       "      <td>0</td>\n",
       "      <td>0</td>\n",
       "      <td>1</td>\n",
       "      <td>0</td>\n",
       "    </tr>\n",
       "    <tr>\n",
       "      <th>3</th>\n",
       "      <td>13950.0</td>\n",
       "      <td>99.8</td>\n",
       "      <td>102</td>\n",
       "      <td>24</td>\n",
       "      <td>30</td>\n",
       "      <td>5500</td>\n",
       "      <td>0</td>\n",
       "      <td>1</td>\n",
       "      <td>0</td>\n",
       "      <td>0</td>\n",
       "      <td>...</td>\n",
       "      <td>0</td>\n",
       "      <td>0</td>\n",
       "      <td>0</td>\n",
       "      <td>0</td>\n",
       "      <td>0</td>\n",
       "      <td>0</td>\n",
       "      <td>1</td>\n",
       "      <td>0</td>\n",
       "      <td>0</td>\n",
       "      <td>0</td>\n",
       "    </tr>\n",
       "    <tr>\n",
       "      <th>4</th>\n",
       "      <td>17450.0</td>\n",
       "      <td>99.4</td>\n",
       "      <td>115</td>\n",
       "      <td>18</td>\n",
       "      <td>22</td>\n",
       "      <td>5500</td>\n",
       "      <td>0</td>\n",
       "      <td>1</td>\n",
       "      <td>0</td>\n",
       "      <td>1</td>\n",
       "      <td>...</td>\n",
       "      <td>0</td>\n",
       "      <td>0</td>\n",
       "      <td>0</td>\n",
       "      <td>0</td>\n",
       "      <td>0</td>\n",
       "      <td>0</td>\n",
       "      <td>1</td>\n",
       "      <td>0</td>\n",
       "      <td>0</td>\n",
       "      <td>0</td>\n",
       "    </tr>\n",
       "  </tbody>\n",
       "</table>\n",
       "<p>5 rows × 22 columns</p>\n",
       "</div>"
      ],
      "text/plain": [
       "     price  wheelbase  horsepower  citympg  highwaympg  peakrpm  \\\n",
       "0  13495.0       88.6         111       21          27     5000   \n",
       "1  16500.0       88.6         111       21          27     5000   \n",
       "2  16500.0       94.5         154       19          26     5000   \n",
       "3  13950.0       99.8         102       24          30     5500   \n",
       "4  17450.0       99.4         115       18          22     5500   \n",
       "\n",
       "   fueltype__diesel  fueltype__gas  cylindernumber__eight  \\\n",
       "0                 0              1                      0   \n",
       "1                 0              1                      0   \n",
       "2                 0              1                      0   \n",
       "3                 0              1                      0   \n",
       "4                 0              1                      0   \n",
       "\n",
       "   cylindernumber__five  ...  cylindernumber__three  cylindernumber__twelve  \\\n",
       "0                     0  ...                      0                       0   \n",
       "1                     0  ...                      0                       0   \n",
       "2                     0  ...                      0                       0   \n",
       "3                     0  ...                      0                       0   \n",
       "4                     1  ...                      0                       0   \n",
       "\n",
       "   cylindernumber__two  enginetype__dohc  enginetype__dohcv  enginetype__l  \\\n",
       "0                    0                 1                  0              0   \n",
       "1                    0                 1                  0              0   \n",
       "2                    0                 0                  0              0   \n",
       "3                    0                 0                  0              0   \n",
       "4                    0                 0                  0              0   \n",
       "\n",
       "   enginetype__ohc  enginetype__ohcf  enginetype__ohcv  enginetype__rotor  \n",
       "0                0                 0                 0                  0  \n",
       "1                0                 0                 0                  0  \n",
       "2                0                 0                 1                  0  \n",
       "3                1                 0                 0                  0  \n",
       "4                1                 0                 0                  0  \n",
       "\n",
       "[5 rows x 22 columns]"
      ]
     },
     "execution_count": 184,
     "metadata": {},
     "output_type": "execute_result"
    }
   ],
   "source": [
    "df = pd.get_dummies(df, columns=['fueltype','cylindernumber','enginetype'], prefix_sep='__')\n",
    "df.head()"
   ]
  },
  {
   "cell_type": "code",
   "execution_count": 185,
   "metadata": {},
   "outputs": [
    {
     "data": {
      "text/plain": [
       "price                     float64\n",
       "wheelbase                 float64\n",
       "horsepower                  int64\n",
       "citympg                     int64\n",
       "highwaympg                  int64\n",
       "peakrpm                     int64\n",
       "fueltype__diesel            uint8\n",
       "fueltype__gas               uint8\n",
       "cylindernumber__eight       uint8\n",
       "cylindernumber__five        uint8\n",
       "cylindernumber__four        uint8\n",
       "cylindernumber__six         uint8\n",
       "cylindernumber__three       uint8\n",
       "cylindernumber__twelve      uint8\n",
       "cylindernumber__two         uint8\n",
       "enginetype__dohc            uint8\n",
       "enginetype__dohcv           uint8\n",
       "enginetype__l               uint8\n",
       "enginetype__ohc             uint8\n",
       "enginetype__ohcf            uint8\n",
       "enginetype__ohcv            uint8\n",
       "enginetype__rotor           uint8\n",
       "dtype: object"
      ]
     },
     "execution_count": 185,
     "metadata": {},
     "output_type": "execute_result"
    }
   ],
   "source": [
    "df.dtypes"
   ]
  },
  {
   "cell_type": "markdown",
   "metadata": {},
   "source": [
    "### Se eliminan variables dicótomicas para permitir la comparación entre ellas."
   ]
  },
  {
   "cell_type": "code",
   "execution_count": 186,
   "metadata": {},
   "outputs": [],
   "source": [
    "df = df.drop(['cylindernumber__two','cylindernumber__three','cylindernumber__four','fueltype__diesel',\n",
    "              'enginetype__dohc','enginetype__dohcv'], axis='columns')"
   ]
  },
  {
   "cell_type": "markdown",
   "metadata": {},
   "source": [
    "### Se eliminan variables con alta correlación y variables sin correlación con el precio."
   ]
  },
  {
   "cell_type": "code",
   "execution_count": 187,
   "metadata": {},
   "outputs": [],
   "source": [
    "df = df.drop(['highwaympg','peakrpm'], axis='columns')"
   ]
  },
  {
   "cell_type": "markdown",
   "metadata": {},
   "source": [
    "### Se ve gráficamente la distribución de la variable dependiente (precio de los vehículos)."
   ]
  },
  {
   "cell_type": "code",
   "execution_count": 188,
   "metadata": {},
   "outputs": [
    {
     "data": {
      "text/plain": [
       "<AxesSubplot:>"
      ]
     },
     "execution_count": 188,
     "metadata": {},
     "output_type": "execute_result"
    },
    {
     "data": {
      "image/png": "[encoded data removed]",
      "text/plain": [
       "<Figure size 432x288 with 1 Axes>"
      ]
     },
     "metadata": {
      "needs_background": "light"
     },
     "output_type": "display_data"
    }
   ],
   "source": [
    "df.price.hist()"
   ]
  },
  {
   "cell_type": "markdown",
   "metadata": {},
   "source": [
    "### Se separa la base de datos en variables independientes y variable dependiente y se le saca el logaritmo al precio para cambiar la distribución."
   ]
  },
  {
   "cell_type": "code",
   "execution_count": 189,
   "metadata": {},
   "outputs": [],
   "source": [
    "X = df.drop('price', axis=1)\n",
    "y = np.log(df.price)"
   ]
  },
  {
   "cell_type": "markdown",
   "metadata": {},
   "source": [
    "### Se gráfica la nueva distribución del precio de los vehículos. Donde se obtiene una distribución aproximadamente normal."
   ]
  },
  {
   "cell_type": "code",
   "execution_count": 190,
   "metadata": {},
   "outputs": [
    {
     "data": {
      "text/plain": [
       "<AxesSubplot:>"
      ]
     },
     "execution_count": 190,
     "metadata": {},
     "output_type": "execute_result"
    },
    {
     "data": {
      "image/png": "[encoded data removed]",
      "text/plain": [
       "<Figure size 432x288 with 1 Axes>"
      ]
     },
     "metadata": {
      "needs_background": "light"
     },
     "output_type": "display_data"
    }
   ],
   "source": [
    "y.hist()"
   ]
  },
  {
   "cell_type": "markdown",
   "metadata": {},
   "source": [
    "### Se separan los datos en entrenamiento y prueba. Se realiza con un 70 % para entrenamiento y el resto para prueba."
   ]
  },
  {
   "cell_type": "code",
   "execution_count": 191,
   "metadata": {},
   "outputs": [
    {
     "data": {
      "text/plain": [
       "((143, 13), (143,), (62, 13), (62,))"
      ]
     },
     "execution_count": 191,
     "metadata": {},
     "output_type": "execute_result"
    }
   ],
   "source": [
    "from sklearn.model_selection import train_test_split\n",
    "\n",
    "X_train,  X_test, y_train, y_test = train_test_split(X, \n",
    "                                                     y, \n",
    "                                                     train_size=0.7, \n",
    "                                                     random_state=0)\n",
    "\n",
    "X_train.shape, y_train.shape, X_test.shape, y_test.shape"
   ]
  },
  {
   "cell_type": "markdown",
   "metadata": {},
   "source": [
    "### Se realiza el modelo de regresión lineal sin regularización y se calculan los errores para entrenamiento y prueba."
   ]
  },
  {
   "cell_type": "code",
   "execution_count": 192,
   "metadata": {},
   "outputs": [
    {
     "name": "stdout",
     "output_type": "stream",
     "text": [
      "0.05680934728744509\n",
      "0.026700264831196217\n"
     ]
    }
   ],
   "source": [
    "import pandas as pd\n",
    "import numpy as np\n",
    "from sklearn.datasets import fetch_california_housing\n",
    "from sklearn.linear_model import LinearRegression, Ridge, Lasso\n",
    "from sklearn.linear_model import ElasticNet\n",
    "import matplotlib.pyplot as plt\n",
    "from sklearn.metrics import mean_squared_error as mse\n",
    "from sklearn.preprocessing import PolynomialFeatures\n",
    "\n",
    "lin_mod = LinearRegression()\n",
    "lin_mod.fit(X_train, y_train)\n",
    "print(mse(y_test, lin_mod.predict(X_test)))\n",
    "print(mse(y_train, lin_mod.predict(X_train)))"
   ]
  },
  {
   "cell_type": "markdown",
   "metadata": {},
   "source": [
    "### Se aplica gridsearch para encontrar los mejores parametros de la regresión Ridge y se calculan los errores para entrenamiento y prueba y el mejor parametro para Ridge."
   ]
  },
  {
   "cell_type": "code",
   "execution_count": 193,
   "metadata": {},
   "outputs": [
    {
     "name": "stderr",
     "output_type": "stream",
     "text": [
      "C:\\Users\\kevin\\anaconda3\\lib\\site-packages\\sklearn\\linear_model\\_ridge.py:147: LinAlgWarning: Ill-conditioned matrix (rcond=6.24099e-21): result may not be accurate.\n",
      "  return linalg.solve(A, Xy, sym_pos=True,\n"
     ]
    },
    {
     "name": "stdout",
     "output_type": "stream",
     "text": [
      "{'alpha': 0.01}\n",
      "0.05656646746904557\n",
      "0.026701332388268578\n"
     ]
    }
   ],
   "source": [
    "from sklearn.model_selection import GridSearchCV\n",
    "from sklearn.linear_model import Ridge\n",
    "ridge=Ridge()\n",
    "parameters = {'alpha': [1e-15, 1e-10, 1e-8, 1e-4, 1e-3,1e-2, 1, 5, 10, 20]}\n",
    "ridge_regressor = GridSearchCV(ridge, cv=4, n_jobs=1,refit = True, param_grid=parameters,scoring=\"neg_mean_squared_error\")\n",
    "\n",
    "\n",
    "ridge_regressor.fit(X_train, y_train)\n",
    "\n",
    "print(ridge_regressor.best_params_)\n",
    "print(mse(y_test, ridge_regressor.predict(X_test)))\n",
    "print(mse(y_train, ridge_regressor.predict(X_train)))"
   ]
  },
  {
   "cell_type": "markdown",
   "metadata": {},
   "source": [
    "### Se aplica gridsearch para encontrar los mejores parametros de la regresión Lasso y se calculan los errores para entrenamiento y prueba y el mejor parametro de Lasso."
   ]
  },
  {
   "cell_type": "code",
   "execution_count": 194,
   "metadata": {},
   "outputs": [
    {
     "name": "stderr",
     "output_type": "stream",
     "text": [
      "C:\\Users\\kevin\\anaconda3\\lib\\site-packages\\sklearn\\linear_model\\_coordinate_descent.py:529: ConvergenceWarning: Objective did not converge. You might want to increase the number of iterations. Duality gap: 0.04279768080904223, tolerance: 0.002673058579970186\n",
      "  model = cd_fast.enet_coordinate_descent(\n"
     ]
    },
    {
     "name": "stdout",
     "output_type": "stream",
     "text": [
      "{'alpha': 0.001}\n",
      "0.05351523352448164\n",
      "0.02740965445438663\n"
     ]
    }
   ],
   "source": [
    "from sklearn.model_selection import GridSearchCV\n",
    "from sklearn.linear_model import Ridge\n",
    "lasso=Lasso()\n",
    "parameters = {'alpha': [1e-15, 1e-10, 1e-8, 1e-4, 1e-3,1e-2, 1, 5, 10, 20]}\n",
    "lasso_regressor = GridSearchCV(lasso, cv=4, n_jobs=1,refit = True, param_grid=parameters,scoring=\"neg_mean_squared_error\")\n",
    "\n",
    "lasso_regressor.fit(X_train, y_train)\n",
    "\n",
    "print(lasso_regressor.best_params_)\n",
    "print(mse(y_test, lasso_regressor.predict(X_test)))\n",
    "print(mse(y_train, lasso_regressor.predict(X_train)))"
   ]
  },
  {
   "cell_type": "markdown",
   "metadata": {},
   "source": [
    "### Se aplica gridsearch para encontrar los mejores parametros de la regresión Elasticnet y se calculan los errores para entrenamiento y prueba y el mejor parametro para ElasticNet."
   ]
  },
  {
   "cell_type": "code",
   "execution_count": 195,
   "metadata": {},
   "outputs": [
    {
     "name": "stdout",
     "output_type": "stream",
     "text": [
      "{'alpha': 0.01, 'l1_ratio': 0.1}\n",
      "0.04666375197204283\n",
      "0.02978150848187036\n"
     ]
    }
   ],
   "source": [
    "from sklearn.linear_model import ElasticNet\n",
    "from sklearn.model_selection import GridSearchCV\n",
    "\n",
    "Elastic=ElasticNet()\n",
    "param_grid = {\"alpha\":[0.01,0.02,0.1,0.2,0.3,0.4,0.45,0.5,0.55,0.65,0.7,0.75,0.8],\"l1_ratio\":[0.1,0.3,0.6,0.7,0.9]}\n",
    "\n",
    "ElasticNet= GridSearchCV(Elastic, cv=5, n_jobs=1,refit = True, param_grid=param_grid,scoring=\"neg_mean_squared_error\")\n",
    "\n",
    "ElasticNet.fit(X_train, y_train)\n",
    "\n",
    "print(ElasticNet.best_params_)\n",
    "print(mse(y_test, ElasticNet.predict(X_test)))\n",
    "print(mse(y_train, ElasticNet.predict(X_train)))"
   ]
  },
  {
   "cell_type": "markdown",
   "metadata": {},
   "source": [
    "### Se calculan los R cuadrado de los 4 modelos para comparar."
   ]
  },
  {
   "cell_type": "code",
   "execution_count": 196,
   "metadata": {},
   "outputs": [
    {
     "name": "stdout",
     "output_type": "stream",
     "text": [
      "0.7801800595175792\n",
      "0.7920372974555681\n",
      "0.8186624754887849\n",
      "0.7792362171739826\n"
     ]
    }
   ],
   "source": [
    "from sklearn.metrics import mean_squared_error, r2_score\n",
    "predicted_N=lin_mod.predict(X_test)\n",
    "predicted_R=ridge_regressor.predict(X_test)\n",
    "predicted_L=lasso_regressor.predict(X_test)\n",
    "predicted_E = ElasticNet.predict(X_test)\n",
    "\n",
    "print(r2_score(y_test, predicted_R))\n",
    "print(r2_score(y_test, predicted_L))\n",
    "print(r2_score(y_test, predicted_E))\n",
    "print(r2_score(y_test, predicted_N))"
   ]
  },
  {
   "cell_type": "markdown",
   "metadata": {},
   "source": [
    "### Se calculan los errores de los 4 modelos para comparar."
   ]
  },
  {
   "cell_type": "code",
   "execution_count": 197,
   "metadata": {},
   "outputs": [
    {
     "name": "stdout",
     "output_type": "stream",
     "text": [
      "0.05680934728744509\n",
      "0.05656646746904557\n",
      "0.05351523352448164\n",
      "0.04666375197204283\n"
     ]
    }
   ],
   "source": [
    "print(mse(y_test, lin_mod.predict(X_test)))\n",
    "print(mse(y_test, ridge_regressor.predict(X_test)))\n",
    "print(mse(y_test, lasso_regressor.predict(X_test)))\n",
    "print(mse(y_test, ElasticNet.predict(X_test)))"
   ]
  },
  {
   "cell_type": "markdown",
   "metadata": {},
   "source": [
    "### El mejor modelo es el de regresión lineal simple con regularización ElasticNet, pasamos a graficar los coeficientes del modelo seleccionado."
   ]
  },
  {
   "cell_type": "code",
   "execution_count": 198,
   "metadata": {},
   "outputs": [
    {
     "data": {
      "image/png": "[encoded data removed]",
      "text/plain": [
       "<Figure size 1080x720 with 1 Axes>"
      ]
     },
     "metadata": {
      "needs_background": "light"
     },
     "output_type": "display_data"
    }
   ],
   "source": [
    "plt.figure(figsize=(15,10))\n",
    "ft_importances_lm_elasticcv=pd.Series(ElasticNet.best_estimator_.coef_, index=X_train.columns)\n",
    "ft_importances_lm_elasticcv.plot(kind='barh')\n",
    "plt.show()"
   ]
  }
 ],
 "metadata": {
  "kernelspec": {
   "display_name": "Python 3",
   "language": "python",
   "name": "python3"
  },
  "language_info": {
   "codemirror_mode": {
    "name": "ipython",
    "version": 3
   },
   "file_extension": ".py",
   "mimetype": "text/x-python",
   "name": "python",
   "nbconvert_exporter": "python",
   "pygments_lexer": "ipython3",
   "version": "3.8.3"
  }
 },
 "nbformat": 4,
 "nbformat_minor": 4
}
